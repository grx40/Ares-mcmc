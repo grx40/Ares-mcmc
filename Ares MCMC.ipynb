{
 "cells": [
  {
   "cell_type": "code",
   "execution_count": 99,
   "metadata": {},
   "outputs": [],
   "source": [
    "import numpy as np\n",
    "import matplotlib.pyplot as pl\n",
    "from matplotlib import cm\n",
    "import random\n",
    "import ares\n",
    "import time"
   ]
  },
  {
   "cell_type": "code",
   "execution_count": 100,
   "metadata": {},
   "outputs": [],
   "source": [
    "blobs_scalar = [ 'z_D']\n",
    "blobs_1d = [ 'dTb']\n",
    "blobs_1d_z = np.arange(2,15)\n",
    "\n",
    "base_pars = \\\n",
    "{\n",
    "    'problem_type': 101,\n",
    "    'tanh_model': True,\n",
    "    'blob_names': [blobs_scalar, blobs_1d],\n",
    "    'blob_ivars': [None, [('z', blobs_1d_z)]],\n",
    "    'blob_funcs': None,\n",
    "    'verbose': False,\n",
    "}"
   ]
  },
  {
   "cell_type": "code",
   "execution_count": 101,
   "metadata": {},
   "outputs": [
    {
     "name": "stdout",
     "output_type": "stream",
     "text": [
      "[13.27691091 13.27691091 13.27691091 13.27691091 13.27691091 15.84765203\n",
      " 18.37248237 20.19352489 21.12121918 20.88014525 18.96938725 14.51725301\n",
      "  6.21873541]\n"
     ]
    },
    {
     "data": {
      "image/png": "[encoded data removed]",
      "text/plain": [
       "<Figure size 432x288 with 2 Axes>"
      ]
     },
     "metadata": {
      "needs_background": "light"
     },
     "output_type": "display_data"
    }
   ],
   "source": [
    "#make up data\n",
    "free_pars_data = {'tanh_xz0': 5, 'tanh_xdz': 4}\n",
    "pars = base_pars.copy() # same for each model\n",
    "pars.update(free_pars_data)\n",
    "data = ares.simulations.Global21cm(**pars)\n",
    "data.run()\n",
    "dTb_data = data.get_blob('dTb')\n",
    "data.GlobalSignature(fig=3)\n",
    "print dTb_data\n"
   ]
  },
  {
   "cell_type": "code",
   "execution_count": 102,
   "metadata": {},
   "outputs": [],
   "source": [
    "def chi_square(somelist):\n",
    "    chi = []\n",
    "    for j in range(0,12):\n",
    "        dummy = []\n",
    "        dummy = dTb_data[j]- somelist[j]\n",
    "        chi.append(dummy)\n",
    "            \n",
    "    dummy2 = np.square(chi)\n",
    "    chi_squared = np.sum(dummy2)\n",
    "    return chi_squared\n",
    "    "
   ]
  },
  {
   "cell_type": "code",
   "execution_count": 111,
   "metadata": {},
   "outputs": [
    {
     "data": {
      "image/png": "[encoded data removed]",
      "text/plain": [
       "<Figure size 432x288 with 2 Axes>"
      ]
     },
     "metadata": {
      "needs_background": "light"
     },
     "output_type": "display_data"
    },
    {
     "name": "stdout",
     "output_type": "stream",
     "text": [
      "--- 6006.13646603 seconds ---\n"
     ]
    }
   ],
   "source": [
    "start_time = time.time()\n",
    "def Metropolis_algorithm(walks, starting_point):\n",
    "    collect_xresult = []\n",
    "    collect_yresult = []\n",
    "    \n",
    "      \n",
    "    def L(x):\n",
    "        return np.exp(-0.5*x)\n",
    "    \n",
    "    \n",
    "   \n",
    "    #evaluate dTb for the initial value\n",
    "    free_pars_start = {'tanh_xz0': starting_point[0], 'tanh_xdz': starting_point[1] }\n",
    "    pars = base_pars.copy() #\n",
    "    pars.update(free_pars_start)\n",
    "    starting_sim = ares.simulations.Global21cm(**pars)\n",
    "    starting_sim.run()\n",
    "    dTb_starting_point = starting_sim.get_blob('dTb')\n",
    "        \n",
    "        \n",
    "    #run the MCMC\n",
    "    for i in range(1, walks-1):\n",
    "        \n",
    "        \n",
    "        \n",
    "        \n",
    "        #proposal distribution for parameter space\n",
    "        dr = []\n",
    "        dr = [random.gauss(0, 0.01), random.gauss(0, 0.1)]\n",
    "        rstar = np.add(starting_point, dr)\n",
    "        #print \"proposed rstar is: \" , rstar\n",
    "        \n",
    "        #evaluate dTb for this random choice of model\n",
    "        free_pars_rstar = {'tanh_xz0': rstar[0], 'tanh_xdz': rstar[1]}\n",
    "        pars = base_pars.copy() # same for each model\n",
    "        pars.update(free_pars_rstar)\n",
    "        model_data= ares.simulations.Global21cm(**pars)\n",
    "        model_data.run()\n",
    "        dTb_model = model_data.get_blob('dTb')\n",
    "        \n",
    "        \n",
    "        \n",
    "        #metropolis condition\n",
    "        l = L(chi_square(dTb_model))/L(chi_square(dTb_starting_point))\n",
    "        \n",
    "       \n",
    "        \n",
    "        #draw a random number between 0 and 1\n",
    "        u = np.random.uniform(0,1)\n",
    "        \n",
    "        #run mcmc\n",
    "        if u < min(1, l):\n",
    "            starting_point = rstar\n",
    "            dTb_starting_point = dTb_model\n",
    "            collect_xresult.append(rstar[0])\n",
    "            collect_yresult.append(rstar[1])\n",
    "        else:\n",
    "            \n",
    "            collect_xresult.append(starting_point[0])\n",
    "            collect_yresult.append(starting_point[1])\n",
    "          \n",
    "    #pl.scatter(range(i), collect_xresult, color = 'red', linewidths = 0.01)\n",
    "    #pl.scatter(range(i), collect_yresult, color = 'blue' , linewidths = 0.01)\n",
    "    #pl.xlabel('Num of steps')\n",
    "    #pl.scatter(collect_xresult, collect_yresult)\n",
    "    #pl.xlabel(r'$X_Z$')\n",
    "    #pl.ylabel(r'$\\Delta_z$')\n",
    "    #pl.ylabel(r'$\\Delta_x$ and ' ' $Z_X$')    \n",
    "    \n",
    "    bins1 = np.arange(2,8,0.1)\n",
    "    \n",
    "    #pl.hist(collect_xresult, bins1)\n",
    "    #pl.hist(collect_yresult, bins1)\n",
    "    #pl.xlabel(r'$Z$')\n",
    "    #pl.ylabel('Number of Occurences')\n",
    "    \n",
    "    cmap = pl.get_cmap('jet')\n",
    "    bins1 = np.arange(2,8,0.1)\n",
    "    fig, axes = pl.subplots(nrows=1, ncols=2)\n",
    "    ax0, ax1= axes.flatten()\n",
    "\n",
    "   \n",
    "    ax0.hist(collect_xresult, bins1, normed=1, label='$X_Z$')\n",
    "    ax0.legend(prop={'size': 10})\n",
    "    ax0.set_title('mcmc parameter frequencies')\n",
    "    ax0.set_xlabel('z')\n",
    "    \n",
    "    color = cmap(0.7)\n",
    "    ax1.hist(collect_yresult, bins1, normed=1, histtype='bar', color= color, label='$\\Delta z$')\n",
    "    ax1.legend(prop={'size': 10})\n",
    "    ax1.set_title('mcmc parameter frequencies')\n",
    "    ax1.set_xlabel('z')\n",
    "\n",
    "\n",
    "    pl.show()\n",
    "\n",
    "Metropolis_algorithm(100000, [6,3])\n",
    "print(\"--- %s seconds ---\" % (time.time() - start_time))\n",
    "\n"
   ]
  },
  {
   "cell_type": "code",
   "execution_count": null,
   "metadata": {},
   "outputs": [],
   "source": []
  },
  {
   "cell_type": "code",
   "execution_count": null,
   "metadata": {},
   "outputs": [],
   "source": []
  },
  {
   "cell_type": "code",
   "execution_count": null,
   "metadata": {},
   "outputs": [],
   "source": []
  }
 ],
 "metadata": {
  "kernelspec": {
   "display_name": "Python 2",
   "language": "python",
   "name": "python2"
  },
  "language_info": {
   "codemirror_mode": {
    "name": "ipython",
    "version": 2
   },
   "file_extension": ".py",
   "mimetype": "text/x-python",
   "name": "python",
   "nbconvert_exporter": "python",
   "pygments_lexer": "ipython2",
   "version": "2.7.15"
  }
 },
 "nbformat": 4,
 "nbformat_minor": 2
}
